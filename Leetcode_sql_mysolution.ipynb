{
  "cells": [
    {
      "cell_type": "markdown",
      "metadata": {
        "id": "view-in-github",
        "colab_type": "text"
      },
      "source": [
        "<a href=\"https://colab.research.google.com/github/syoungk7/leetcode_mysolution/blob/main/Leetcode_sql_mysolution.ipynb\" target=\"_parent\"><img src=\"https://colab.research.google.com/assets/colab-badge.svg\" alt=\"Open In Colab\"/></a>"
      ]
    },
    {
      "cell_type": "markdown",
      "metadata": {
        "azdata_cell_guid": "3bbce0e3-1140-4e8d-b68e-0108a7a8d7e7",
        "id": "S98iZQkQeb1J"
      },
      "source": [
        "## 1. Selcet"
      ]
    },
    {
      "cell_type": "code",
      "execution_count": null,
      "metadata": {
        "azdata_cell_guid": "bc357611-e141-4c9d-a782-425947f4cb20",
        "language": "sql",
        "tags": [],
        "id": "tkBTPhHieb1L"
      },
      "outputs": [],
      "source": [
        "-- 1757. Recyclable and Low Fat Products: find the ids of products that are both low fat and recyclable.\n",
        "select product_id\n",
        "from Products\n",
        "where low_fats = 'Y' and recyclable = 'Y'"
      ]
    },
    {
      "cell_type": "code",
      "execution_count": null,
      "metadata": {
        "azdata_cell_guid": "59bc5500-890f-41d2-928d-0f94dbfbe68d",
        "language": "sql",
        "id": "rnJuecA-eb1N"
      },
      "outputs": [],
      "source": [
        "-- 584. Find Customer Referee: Find the names of the customer that are not referred by the customer with id = 2.\n",
        "select name\n",
        "from Customer\n",
        "where referee_id is null or referee_id != '2'"
      ]
    },
    {
      "cell_type": "code",
      "execution_count": null,
      "metadata": {
        "azdata_cell_guid": "1fc6cf2b-c719-47f6-af90-cc7053c0c3bb",
        "language": "sql",
        "id": "a8O23bV9eb1N"
      },
      "outputs": [],
      "source": [
        "-- 595. Big Countries: find the name, population, and area of the big countries.\n",
        "select name, population, area\n",
        "from World\n",
        "where area >= 3000000 or population >= 25000000"
      ]
    },
    {
      "cell_type": "code",
      "execution_count": null,
      "metadata": {
        "azdata_cell_guid": "92e9a503-8a44-4117-a1d1-1915574cfb3c",
        "language": "sql",
        "id": "tYf-DjvHeb1O"
      },
      "outputs": [],
      "source": [
        "-- 1148. Article Views I: find all the authors that viewed at least one of their own articles.\n",
        "select author_id as id\n",
        "from Views\n",
        "where author_id = viewer_id\n",
        "group by author_id\n",
        "order by id\n",
        "--# distinct"
      ]
    },
    {
      "cell_type": "code",
      "execution_count": null,
      "metadata": {
        "azdata_cell_guid": "8326ae31-298a-4f11-9a8a-60361f8362db",
        "language": "sql",
        "id": "wFot5eiVeb1O"
      },
      "outputs": [],
      "source": [
        "-- 1683. Invalid Tweets: find the IDs of the invalid tweets.\n",
        "select tweet_id\n",
        "from Tweets\n",
        "Where char_length(content) > 12\n",
        "--# length -> bytes"
      ]
    },
    {
      "cell_type": "code",
      "execution_count": null,
      "metadata": {
        "azdata_cell_guid": "0c1bf412-73b8-4144-b74b-dbf275c96fbf",
        "language": "sql",
        "id": "kbrx9Mjleb1O"
      },
      "outputs": [],
      "source": [
        "-- A 1821. Find Customers With Positive Revenue this Year: report the customers with postive revenue in the year 2021.\n",
        "SELECT customer_id\n",
        "FROM Customers\n",
        "WHERE year = 2021\n",
        "GROUP BY customer_id, year\n",
        "HAVING SUM(revenue) > 0"
      ]
    },
    {
      "cell_type": "code",
      "execution_count": null,
      "metadata": {
        "azdata_cell_guid": "c331b2e7-2309-4d98-9ef7-c93ff6b8e6b4",
        "language": "sql",
        "id": "qATgnOGneb1O"
      },
      "outputs": [],
      "source": [
        "-- A 183. Customers Who Never Order: find all customers who never order anything.\n",
        "SELECT c.name AS Customers\n",
        "FROM Customers c\n",
        "LEFT JOIN Orders o ON (o.customerId = c.id)\n",
        "WHERE o.customerId IS NULL"
      ]
    },
    {
      "cell_type": "code",
      "execution_count": null,
      "metadata": {
        "id": "m1eDrMKteb1P"
      },
      "outputs": [],
      "source": [
        "-- A 1873. Calculate Special Bonus: calculate the bonus of each employee.\n",
        "Select employee_id,\n",
        "        If(employee_id % 2 = 1 and name not Like 'M%', salary, 0) as bonus\n",
        "From Employees\n",
        "Order by employee_id"
      ]
    },
    {
      "cell_type": "code",
      "execution_count": null,
      "metadata": {
        "id": "oXMbGXd7eb1P"
      },
      "outputs": [],
      "source": [
        "-- AM 1398. Customers Who Bought Products A and B but Not C:\n",
        "-- report the customer_id and customer_name of customers who bought products \"A\", \"B\" but did not buy the product \"C\"\n",
        "WITH Counting AS (SELECT t.customer_id,\n",
        "                    CASE t.product_name\n",
        "                        WHEN 'A' THEN 1\n",
        "                        WHEN 'B' THEN 1\n",
        "                        WHEN 'C' THEN -1\n",
        "                        ELSE 0\n",
        "                    END AS tmp_count\n",
        "                  FROM (SELECT customer_id, product_name\n",
        "                        FROM Orders\n",
        "                        GROUP BY customer_id, product_name) t)\n",
        "\n",
        "SELECT o.customer_id, c.customer_name\n",
        "FROM Counting o, Customers c\n",
        "WHERE o.customer_id = c.customer_id\n",
        "GROUP BY o.customer_id\n",
        "HAVING SUM(o.tmp_count) = 2"
      ]
    },
    {
      "cell_type": "code",
      "execution_count": null,
      "metadata": {
        "id": "eQKvxZ7Peb1P"
      },
      "outputs": [],
      "source": [
        "-- AM 1112. Highest Grade For Each Student:\n",
        "-- find the highest grade with its corresponding course for each student. In case of a tie, you should find the course with the smallest course_id.\n",
        "WITH ranking AS (\n",
        "    SELECT student_id, course_id, grade,\n",
        "        RANK() OVER (PARTITION BY student_id ORDER BY grade DESC, course_id) AS ranks\n",
        "    FROM Enrollments\n",
        "    ORDER BY student_id)\n",
        "\n",
        "SELECT student_id, course_id, grade\n",
        "FROM ranking\n",
        "WHERE ranks = 1\n",
        "\n",
        "--# having min(course_id)"
      ]
    },
    {
      "cell_type": "markdown",
      "metadata": {
        "id": "0Xypi9Bgeb1P"
      },
      "source": [
        "## 2. Basic Joins"
      ]
    },
    {
      "cell_type": "code",
      "execution_count": null,
      "metadata": {
        "id": "_u2rOSpMeb1Q"
      },
      "outputs": [],
      "source": [
        "-- 1378. Replace Employee ID With The Unique Identifier: show the unique ID of each user, If a user does not have a unique ID replace just show null.\n",
        "select u.unique_id, e.name\n",
        "from Employees e\n",
        "left join EmployeeUNI u on e.id = u.id"
      ]
    },
    {
      "cell_type": "code",
      "execution_count": null,
      "metadata": {
        "id": "r1Y28Sm3eb1Q"
      },
      "outputs": [],
      "source": [
        "-- 1068. Product Sales Analysis I: report the product_name, year, and price for each sale_id in the Sales table.\n",
        "select p.product_name, s.year, s.price\n",
        "from Sales s\n",
        "right join Product p on s.product_id = p.product_id\n",
        "where s.price is not Null\n",
        "\n",
        "--# select p.product_name, s.year, s.price\n",
        "--# from Sales s, Product p\n",
        "--# where s.product_id = p.product_id\n",
        "\n",
        "--# inner join"
      ]
    },
    {
      "cell_type": "code",
      "execution_count": null,
      "metadata": {
        "id": "vvqiiuYceb1Q"
      },
      "outputs": [],
      "source": [
        "-- 1581. Customer Who Visited but Did Not Make Any Transactions:\n",
        "-- find the IDs of the users who visited without making any transactions and the number of times they made these types of visits.\n",
        "select v.customer_id, count(v.customer_id) as count_no_trans\n",
        "from Visits v\n",
        "left join Transactions t on v.visit_id = t.visit_id\n",
        "where t.amount is Null\n",
        "group by v.customer_id\n",
        "\n",
        "--# select customer_id, count(customer_id) as count_no_trans\n",
        "--# from Visits\n",
        "--# where visit_id not in (select visit_id from Transactions)\n",
        "--# group by customer_id\n",
        "--# order by count_no_trans Desc"
      ]
    },
    {
      "cell_type": "code",
      "execution_count": null,
      "metadata": {
        "id": "PEY2I8v6eb1Q"
      },
      "outputs": [],
      "source": [
        "-- 197. Rising Temperature: find all dates' Id with higher temperatures compared to its previous dates (yesterday).\n",
        "select w.id\n",
        "from Weather w, Weather e\n",
        "where timestampdiff(day, e.recordDate, w.recordDate) = 1 and w.temperature - e.temperature > 0\n",
        "\n",
        "--# With tmp_weather (id, recordDate, temperature, prev_day, prev_tem)\n",
        "--# As (Select id, recordDate, temperature,\n",
        "--#     Lag(recordDate) over (Order by recordDate) prev_day,\n",
        "--#     Lag(temperature) over (Order by recordDate) prev_tem\n",
        "--#     From Weather\n",
        "--#     )\n",
        "--# Select id\n",
        "--# From tmp_weather\n",
        "--# Where temperature - prev_tem > 0 and TIMESTAMPDIFF(Day, prev_day, recordDate) = 1\n",
        "\n",
        "--# join\n",
        "--# select w.id\n",
        "--# from Weather w\n",
        "--# Join Weather e on TIMESTAMPDIFF(Day, e.recordDate, w.recordDate) = 1 and w.temperature - e.temperature > 0"
      ]
    },
    {
      "cell_type": "code",
      "execution_count": null,
      "metadata": {
        "id": "sd8sBUb-eb1Q"
      },
      "outputs": [],
      "source": [
        "-- 1661. Average Time of Process per Machine: find the average time each machine takes to complete a process.\n",
        "select a.machine_id, round(sum((c.timestamp - a.timestamp))/count(a.process_id), 3) as processing_time\n",
        "from Activity a\n",
        "join Activity c on a.machine_id = c.machine_id and a.process_id = c.process_id and a.activity_type = 'start' and c.activity_type = 'end'\n",
        "group by a.machine_id"
      ]
    },
    {
      "cell_type": "code",
      "execution_count": null,
      "metadata": {
        "id": "QMd5Vz7Ieb1Q"
      },
      "outputs": [],
      "source": [
        "-- 577. Employee Bonus: report the name and bonus amount of each employee with a bonus less than 1000.\n",
        "select e.name, b.bonus\n",
        "from Employee e\n",
        "left join Bonus b on e.empId = b.empId\n",
        "where b.bonus < 1000 or b.bonus is Null"
      ]
    },
    {
      "cell_type": "code",
      "execution_count": null,
      "metadata": {
        "id": "Fz7ntMzHeb1Q"
      },
      "outputs": [],
      "source": [
        "-- 1280. Students and Examinations: find the number of times each student attended each exam.\n",
        "select s.student_id, s.student_name, s.subject_name, count(e.student_id) as attended_exams\n",
        "from (select student_id, student_name, subject_name\n",
        "      from Students, Subjects) s\n",
        "left join Examinations e on e.student_id = s.student_id and e.subject_name = s.subject_name\n",
        "group by s.student_id, s.subject_name\n",
        "order by s.student_id, s.subject_name\n",
        "\n",
        "--# with s as (select student_id, student_name, subject_name from Students, Subjects)"
      ]
    },
    {
      "cell_type": "code",
      "execution_count": null,
      "metadata": {
        "id": "Ma8qfQzReb1Q"
      },
      "outputs": [],
      "source": [
        "-- M 570. Managers with at Least 5 Direct Reports: find managers with at least five direct reports.\n",
        "select e.name\n",
        "from Employee e\n",
        "join (select managerId\n",
        "      from Employee\n",
        "      group by managerId\n",
        "      having count(managerId) >= 5) m on e.id = m.managerId\n",
        "--# select name\n",
        "--# from Employee\n",
        "--# where id in (select managerId\n",
        "--#              from Employee\n",
        "--#              group by managerId\n",
        "--#              having count(managerId) >= 5)"
      ]
    },
    {
      "cell_type": "code",
      "execution_count": null,
      "metadata": {
        "id": "bAuA8L7Reb1Q"
      },
      "outputs": [],
      "source": [
        "-- M 1934. Confirmation Rate: find the confirmation rate of each user.\n",
        "with noc as (select user_id, count(action) as num_of_confirmed\n",
        "            from Confirmations\n",
        "            where action = 'confirmed'\n",
        "            group by user_id, action)\n",
        "select s.user_id, ifnull(round(n.num_of_confirmed/count(c.user_id), 2), 0) as confirmation_rate\n",
        "from Signups s\n",
        "left join Confirmations c on s.user_id = c.user_id\n",
        "left join noc n on c.user_id = n.user_id\n",
        "group by s.user_id\n",
        "\n",
        "--# {\"headers\": [\"user_id\", \"num_of_action\"], \"values\": [[3, 2], [7, 3], [2, 2], [6, 0]]}\n",
        "\n",
        "--# Select s.user_id, ifnull(round((sum(c.action = 'confirmed')/count(c.action)), 2), 0) as confirmation_rate\n",
        "--# From Signups s\n",
        "--# left join Confirmations c on s.user_id = c.user_id\n",
        "--# group by s.user_id;\n",
        "\n",
        "--# Select s.user_id, ifnull(round(sum(case when c.action='confirmed' then 1 else 0 end)/count(c.user_id), 2), 0) as confirmation_rate\n",
        "--# From Signups s\n",
        "--# left join Confirmations c on s.user_id = c.user_id\n",
        "--# group by s.user_id;\n",
        "\n",
        "--# select s.user_id, round(avg(if(c.action=\"confirmed\", 1, 0)), 2) as confirmation_rate\n",
        "--# from Signups s\n",
        "--# left join Confirmations c on s.user_id = c.user_id\n",
        "--# group by user_id"
      ]
    },
    {
      "cell_type": "code",
      "execution_count": null,
      "metadata": {
        "id": "YCKHiAqEeb1Q"
      },
      "outputs": [],
      "source": [
        "-- A 175. Combine Two Tables: report the first name, last name, city, and state of each person in the Person table.\n",
        "SELECT p.firstName, p.lastName, a.city, a.state\n",
        "FROM Person p\n",
        "LEFT JOIN Address a ON (p.personId = a.personId)"
      ]
    },
    {
      "cell_type": "code",
      "execution_count": null,
      "metadata": {
        "id": "kkVJzOYCeb1Q"
      },
      "outputs": [],
      "source": [
        "-- A 1607. Sellers With No Sales: report the names of all sellers who did not make any sales in 2020.\n",
        "SELECT seller_name\n",
        "FROM Seller\n",
        "WHERE seller_id NOT IN (SELECT seller_id\n",
        "                        FROM Orders\n",
        "                        WHERE YEAR(sale_date) = 2020\n",
        "                        GROUP BY seller_id)\n",
        "ORDER BY seller_name"
      ]
    },
    {
      "cell_type": "code",
      "execution_count": null,
      "metadata": {
        "id": "N4fqMQm5eb1Q"
      },
      "outputs": [],
      "source": [
        "-- A 1407. Top Travellers: result table ordered by travelled_distance in descending order, name in ascending order.\n",
        "SELECT u.name, IFNULL(r.td, 0) AS travelled_distance\n",
        "FROM Users u\n",
        "LEFT JOIN (SELECT user_id, SUM(distance) AS td\n",
        "           FROM Rides\n",
        "           GROUP BY user_id) r\n",
        "        ON u.id = r.user_id\n",
        "ORDER BY travelled_distance DESC, u.name"
      ]
    },
    {
      "cell_type": "code",
      "execution_count": null,
      "metadata": {
        "id": "rcTUQEJgeb1R"
      },
      "outputs": [],
      "source": [
        "-- A 607. Sales Person: find the names of all the salespersons who did not have any orders related to the company with the name \"RED\".\n",
        "SELECT name\n",
        "FROM SalesPerson\n",
        "WHERE sales_id NOT IN (SELECT o.sales_id\n",
        "                       FROM Orders o, Company c\n",
        "                       WHERE o.com_id = c.com_id and c.name = 'RED')"
      ]
    },
    {
      "cell_type": "code",
      "execution_count": null,
      "metadata": {
        "id": "p7I0vj8ueb1R"
      },
      "outputs": [],
      "source": []
    },
    {
      "cell_type": "code",
      "execution_count": null,
      "metadata": {
        "id": "uANnIQNReb1R"
      },
      "outputs": [],
      "source": []
    }
  ],
  "metadata": {
    "kernelspec": {
      "display_name": "SQL",
      "language": "sql",
      "name": "SQL"
    },
    "language_info": {
      "name": "sql",
      "version": ""
    },
    "colab": {
      "provenance": [],
      "include_colab_link": true
    }
  },
  "nbformat": 4,
  "nbformat_minor": 0
}