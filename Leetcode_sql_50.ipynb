{
  "cells": [
    {
      "cell_type": "markdown",
      "metadata": {
        "id": "view-in-github",
        "colab_type": "text"
      },
      "source": [
        "<a href=\"https://colab.research.google.com/github/syoungk7/leetcode_mysolution/blob/main/Leetcode_sql_50.ipynb\" target=\"_parent\"><img src=\"https://colab.research.google.com/assets/colab-badge.svg\" alt=\"Open In Colab\"/></a>"
      ]
    },
    {
      "cell_type": "markdown",
      "source": [
        "# LEETCODE SQL 50"
      ],
      "metadata": {
        "id": "mhdAXTUHs5s2"
      }
    },
    {
      "cell_type": "markdown",
      "metadata": {
        "azdata_cell_guid": "3bbce0e3-1140-4e8d-b68e-0108a7a8d7e7",
        "id": "6CWfNMq3suQA"
      },
      "source": [
        "## 1. Selcet"
      ]
    },
    {
      "cell_type": "code",
      "execution_count": null,
      "metadata": {
        "azdata_cell_guid": "bc357611-e141-4c9d-a782-425947f4cb20",
        "language": "sql",
        "tags": [],
        "id": "ZwPhfMZxsuQE"
      },
      "outputs": [],
      "source": [
        "-- 1757. Recyclable and Low Fat Products: find the ids of products that are both low fat and recyclable.\n",
        "\n",
        "select product_id\n",
        "from Products\n",
        "where low_fats = 'Y' and recyclable = 'Y'"
      ]
    },
    {
      "cell_type": "code",
      "execution_count": null,
      "metadata": {
        "azdata_cell_guid": "59bc5500-890f-41d2-928d-0f94dbfbe68d",
        "language": "sql",
        "id": "u3bAm_GssuQG"
      },
      "outputs": [],
      "source": [
        "-- 584. Find Customer Referee: Find the names of the customer that are not referred by the customer with id = 2.\n",
        "\n",
        "select name\n",
        "from Customer\n",
        "where referee_id is null or referee_id != '2'"
      ]
    },
    {
      "cell_type": "code",
      "execution_count": null,
      "metadata": {
        "azdata_cell_guid": "1fc6cf2b-c719-47f6-af90-cc7053c0c3bb",
        "language": "sql",
        "id": "yajAa-WrsuQH"
      },
      "outputs": [],
      "source": [
        "-- 595. Big Countries: find the name, population, and area of the big countries.\n",
        "\n",
        "select name, population, area\n",
        "from World\n",
        "where area >= 3000000 or population >= 25000000"
      ]
    },
    {
      "cell_type": "code",
      "execution_count": null,
      "metadata": {
        "azdata_cell_guid": "92e9a503-8a44-4117-a1d1-1915574cfb3c",
        "language": "sql",
        "id": "-Vo1kuiksuQH"
      },
      "outputs": [],
      "source": [
        "-- 1148. Article Views I: find all the authors that viewed at least one of their own articles.\n",
        "\n",
        "select author_id as id\n",
        "from Views\n",
        "where author_id = viewer_id\n",
        "group by author_id\n",
        "order by id\n",
        "\n",
        "--# distinct"
      ]
    },
    {
      "cell_type": "code",
      "execution_count": null,
      "metadata": {
        "azdata_cell_guid": "8326ae31-298a-4f11-9a8a-60361f8362db",
        "language": "sql",
        "id": "rHzKAfvssuQI"
      },
      "outputs": [],
      "source": [
        "-- 1683. Invalid Tweets: find the IDs of the invalid tweets.\n",
        "\n",
        "select tweet_id\n",
        "from Tweets\n",
        "Where char_length(content) > 12\n",
        "\n",
        "--# length -> bytes"
      ]
    },
    {
      "cell_type": "markdown",
      "metadata": {
        "id": "7uVRG9Q-suQI"
      },
      "source": [
        "## 2. Basic Joins"
      ]
    },
    {
      "cell_type": "code",
      "execution_count": null,
      "metadata": {
        "id": "mPQCH8uasuQJ"
      },
      "outputs": [],
      "source": [
        "-- 1378. Replace Employee ID With The Unique Identifier: show the unique ID of each user, If a user does not have a unique ID replace just show null.\n",
        "\n",
        "select u.unique_id, e.name\n",
        "from Employees e\n",
        "left join EmployeeUNI u on e.id = u.id"
      ]
    },
    {
      "cell_type": "code",
      "execution_count": null,
      "metadata": {
        "id": "FuXkDv0tsuQJ"
      },
      "outputs": [],
      "source": [
        "-- 1068. Product Sales Analysis I: report the product_name, year, and price for each sale_id in the Sales table.\n",
        "\n",
        "select p.product_name, s.year, s.price\n",
        "from Sales s\n",
        "right join Product p on s.product_id = p.product_id\n",
        "where s.price is not Null\n",
        "\n",
        "--# select p.product_name, s.year, s.price\n",
        "--# from Sales s, Product p\n",
        "--# where s.product_id = p.product_id"
      ]
    },
    {
      "cell_type": "code",
      "execution_count": null,
      "metadata": {
        "id": "nFRihxJAsuQJ"
      },
      "outputs": [],
      "source": [
        "-- 1581. Customer Who Visited but Did Not Make Any Transactions:\n",
        "-- find the IDs of the users who visited without making any transactions and the number of times they made these types of visits.\n",
        "\n",
        "select v.customer_id, count(v.customer_id) as count_no_trans\n",
        "from Visits v\n",
        "left join Transactions t on v.visit_id = t.visit_id\n",
        "where t.amount is Null\n",
        "group by v.customer_id\n",
        "\n",
        "--# select customer_id, count(customer_id) as count_no_trans\n",
        "--# from Visits\n",
        "--# where visit_id not in (select visit_id from Transactions)\n",
        "--# group by customer_id\n",
        "--# order by count_no_trans Desc"
      ]
    },
    {
      "cell_type": "code",
      "execution_count": null,
      "metadata": {
        "id": "VLJBycX3suQK"
      },
      "outputs": [],
      "source": [
        "-- 197. Rising Temperature: find all dates'' Id with higher temperatures compared to its previous dates (yesterday).\n",
        "\n",
        "select w.id\n",
        "from Weather w, Weather e\n",
        "where timestampdiff(day, e.recordDate, w.recordDate) = 1 and w.temperature - e.temperature > 0\n",
        "\n",
        "--# With tmp_weather (id, recordDate, temperature, prev_day, prev_tem)\n",
        "--# As (Select id, recordDate, temperature,\n",
        "--#     Lag(recordDate) over (Order by recordDate) prev_day,\n",
        "--#     Lag(temperature) over (Order by recordDate) prev_tem\n",
        "--#     From Weather\n",
        "--#     )\n",
        "--# Select id\n",
        "--# From tmp_weather\n",
        "--# Where temperature - prev_tem > 0 and TIMESTAMPDIFF(Day, prev_day, recordDate) = 1\n",
        "\n",
        "--# join\n",
        "--# select w.id\n",
        "--# from Weather w\n",
        "--# Join Weather e on TIMESTAMPDIFF(Day, e.recordDate, w.recordDate) = 1 and w.temperature - e.temperature > 0"
      ]
    },
    {
      "cell_type": "code",
      "execution_count": null,
      "metadata": {
        "id": "lCdzCyfesuQK"
      },
      "outputs": [],
      "source": [
        "-- 1661. Average Time of Process per Machine: find the average time each machine takes to complete a process.\n",
        "\n",
        "select a.machine_id, round(sum((c.timestamp - a.timestamp))/count(a.process_id), 3) as processing_time\n",
        "from Activity a\n",
        "join Activity c on a.machine_id = c.machine_id and a.process_id = c.process_id and a.activity_type = 'start' and c.activity_type = 'end'\n",
        "group by a.machine_id"
      ]
    },
    {
      "cell_type": "code",
      "execution_count": null,
      "metadata": {
        "id": "NR7iUKAMsuQK"
      },
      "outputs": [],
      "source": [
        "-- 577. Employee Bonus: report the name and bonus amount of each employee with a bonus less than 1000.\n",
        "\n",
        "select e.name, b.bonus\n",
        "from Employee e\n",
        "left join Bonus b on e.empId = b.empId\n",
        "where b.bonus < 1000 or b.bonus is Null"
      ]
    },
    {
      "cell_type": "code",
      "execution_count": null,
      "metadata": {
        "id": "4KTq7jHfsuQK"
      },
      "outputs": [],
      "source": [
        "-- 1280. Students and Examinations: find the number of times each student attended each exam.\n",
        "\n",
        "select s.student_id, s.student_name, s.subject_name, count(e.student_id) as attended_exams\n",
        "from (select student_id, student_name, subject_name\n",
        "      from Students, Subjects) s\n",
        "left join Examinations e on e.student_id = s.student_id and e.subject_name = s.subject_name\n",
        "group by s.student_id, s.subject_name\n",
        "order by s.student_id, s.subject_name\n",
        "\n",
        "--# with s as (select student_id, student_name, subject_name from Students, Subjects)"
      ]
    },
    {
      "cell_type": "code",
      "execution_count": null,
      "metadata": {
        "id": "NHohOwpNsuQK"
      },
      "outputs": [],
      "source": [
        "-- M 570. Managers with at Least 5 Direct Reports: find managers with at least five direct reports.\n",
        "\n",
        "select e.name\n",
        "from Employee e\n",
        "join (select managerId\n",
        "      from Employee\n",
        "      group by managerId\n",
        "      having count(managerId) >= 5) m on e.id = m.managerI\n",
        "\n",
        "--# select name\n",
        "--# from Employee\n",
        "--# where id in (select managerId\n",
        "--#              from Employee\n",
        "--#              group by managerId\n",
        "--#              having count(managerId) >= 5)"
      ]
    },
    {
      "cell_type": "code",
      "execution_count": null,
      "metadata": {
        "id": "oXkXCnYmsuQK"
      },
      "outputs": [],
      "source": [
        "-- M 1934. Confirmation Rate: find the confirmation rate of each user.\n",
        "\n",
        "with noc as (select user_id, count(action) as num_of_confirmed\n",
        "            from Confirmations\n",
        "            where action = 'confirmed'\n",
        "            group by user_id, action)\n",
        "select s.user_id, ifnull(round(n.num_of_confirmed/count(c.user_id), 2), 0) as confirmation_rate\n",
        "from Signups s\n",
        "left join Confirmations c on s.user_id = c.user_id\n",
        "left join noc n on c.user_id = n.user_id\n",
        "group by s.user_id"
      ]
    },
    {
      "cell_type": "markdown",
      "metadata": {
        "id": "pXHdQsL7suQL"
      },
      "source": [
        "## 3. Basic Aggregate Functions"
      ]
    },
    {
      "cell_type": "code",
      "execution_count": null,
      "metadata": {
        "id": "QTsiFVEGsuQL"
      },
      "outputs": [],
      "source": [
        "-- 620. Not Boring Movies: report the movies with an odd-numbered ID and a description that is not \"boring\".\n",
        "\n",
        "SELECT *\n",
        "FROM Cinema\n",
        "WHERE id % 2 = 1 AND description != 'boring'\n",
        "ORDER BY rating DESC"
      ]
    },
    {
      "cell_type": "code",
      "execution_count": null,
      "metadata": {
        "id": "yQxMm59psuQL"
      },
      "outputs": [],
      "source": [
        "-- 1251. Average Selling Price: find the average selling price for each product.\n",
        "\n",
        "SELECT p.product_id,\n",
        "    IFNULL(ROUND(SUM(p.price * u.units)/SUM(u.units), 2), 0) AS average_price\n",
        "FROM Prices p\n",
        "LEFT JOIN UnitsSold u ON p.product_id = u.product_id\n",
        "    AND u.purchase_date BETWEEN start_date AND end_date\n",
        "GROUP BY p.product_id"
      ]
    },
    {
      "cell_type": "code",
      "execution_count": null,
      "metadata": {
        "id": "-47bqhe5suQL"
      },
      "outputs": [],
      "source": [
        "-- 1075. Project Employees I: reports the average experience years of all the employees for each project, rounded to 2 digits.\n",
        "\n",
        "SELECT p.project_id, ROUND(AVG(e.experience_years), 2) AS average_years\n",
        "FROM Project p\n",
        "LEFT JOIN Employee e on p.employee_id = e.employee_id\n",
        "GROUP BY p.project_id"
      ]
    },
    {
      "cell_type": "code",
      "execution_count": null,
      "metadata": {
        "id": "qu-gaBtisuQL"
      },
      "outputs": [],
      "source": [
        "-- 1633. Percentage of Users Attended a Contest: find the percentage of the users registered in each contest rounded to two decimals.\n",
        "\n",
        "SELECT contest_id, ROUND(COUNT(contest_id)/(SELECT COUNT(DISTINCT user_id) FROM Users)*100, 2) AS percentage\n",
        "FROM Register\n",
        "GROUP BY contest_id\n",
        "ORDER BY percentage DESC, contest_id"
      ]
    },
    {
      "cell_type": "code",
      "execution_count": null,
      "metadata": {
        "id": "s_Ey9qkasuQL"
      },
      "outputs": [],
      "source": [
        "-- 1211. Queries Quality and Percentage: find each query_name, the quality and poor_query_percentage.\n",
        "\n",
        "SELECT query_name,\n",
        "    ROUND(AVG(rating/position), 2) AS quality,\n",
        "    ROUND(SUM(IF(rating < 3, 1, 0))/COUNT(query_name)*100, 2) AS poor_query_percentage\n",
        "FROM Queries\n",
        "GROUP BY query_name"
      ]
    },
    {
      "cell_type": "code",
      "execution_count": null,
      "metadata": {
        "id": "imVgPIrusuQL"
      },
      "outputs": [],
      "source": [
        "-- M 1193. Monthly Transactions I: find for each month and country, the number of transactions and their total amount,\n",
        "-- the number of approved transactions and their total amount.\n",
        "\n",
        "SELECT DATE_FORMAT(trans_date, '%Y-%m') AS month,\n",
        "    country,\n",
        "    COUNT(state) AS trans_count,\n",
        "    SUM(IF(state = 'approved', 1, 0)) AS approved_count,\n",
        "    SUM(amount) AS trans_total_amount,\n",
        "    SUM(IF(state = 'approved', amount, 0)) AS approved_total_amount\n",
        "FROM Transactions\n",
        "GROUP BY month, country"
      ]
    },
    {
      "cell_type": "code",
      "execution_count": null,
      "metadata": {
        "id": "-l-0uF0KsuQL"
      },
      "outputs": [],
      "source": [
        "-- M 1174. Immediate Food Delivery II: find the percentage of immediate orders in the first orders of all customers, rounded to 2 decimal places.\n",
        "\n",
        "SELECT ROUND(SUM(IF((d.order_date = d.customer_pref_delivery_date), 1, 0))/COUNT(d.customer_id)*100, 2) AS immediate_percentage\n",
        "FROM Delivery d\n",
        "JOIN (SELECT customer_id, MIN(order_date) AS min_date\n",
        "      FROM Delivery\n",
        "      GROUP BY customer_id) s ON d.order_date = s.min_date and d.customer_id = s.customer_id"
      ]
    },
    {
      "cell_type": "code",
      "execution_count": null,
      "metadata": {
        "id": "eEHtKAeasuQL"
      },
      "outputs": [],
      "source": [
        "-- M 550. Game Play Analysis IV: report the fraction of players that logged in again on the day after the day they first logged in.\n",
        "\n",
        "SELECT ROUND(COUNT(a.player_id)/(SELECT COUNT(DISTINCT player_id) FROM Activity), 2) AS fraction\n",
        "FROM Activity a, (SELECT player_id, MIN(event_date) as min_date\n",
        "                  FROM Activity\n",
        "                  GROUP BY player_id) s\n",
        "WHERE a.player_id = s.player_id and DATEDIFF(a.event_date, s.min_date) = 1"
      ]
    },
    {
      "cell_type": "markdown",
      "metadata": {
        "id": "VSkQEjRvsuQL"
      },
      "source": [
        "## 4. Sorting and Grouping"
      ]
    },
    {
      "cell_type": "code",
      "execution_count": null,
      "metadata": {
        "id": "mqA4TbcnsuQL"
      },
      "outputs": [],
      "source": [
        "-- 2356. Number of Unique Subjects Taught by Each Teacher: calculate the number of unique subjects each teacher teaches in the university.\n",
        "\n",
        "SELECT teacher_id, count(DISTINCT subject_id) AS cnt\n",
        "FROM Teacher\n",
        "GROUP BY teacher_id"
      ]
    },
    {
      "cell_type": "code",
      "execution_count": null,
      "metadata": {
        "id": "ns97dO9csuQL"
      },
      "outputs": [],
      "source": [
        "-- 1141. User Activity for the Past 30 Days I: find the daily active user count for a period of 30 days ending 2019-07-27 inclusively.\n",
        "\n",
        "SELECT activity_date AS day, COUNT(DISTINCT user_id) AS active_users\n",
        "FROM Activity\n",
        "--# WHERE DATEDIFF('2019-07-27', activity_date) BETWEEN 0 and 29\n",
        "WHERE DATEDIFF('2019-07-27', activity_date) < 30 and activity_date < '2019-07-27'\n",
        "GROUP BY activity_date"
      ]
    },
    {
      "cell_type": "code",
      "execution_count": null,
      "metadata": {
        "id": "JpewlVxesuQM"
      },
      "outputs": [],
      "source": [
        "-- M 1070. Product Sales Analysis III: select the product id, year, quantity, and price for the first year of every product sold.\n",
        "\n",
        "SELECT product_id, year as first_year, quantity, price\n",
        "FROM Sales\n",
        "WHERE (product_id, year) in (SELECT product_id, MIN(year)\n",
        "                             FROM Sales\n",
        "                             GROUP BY product_id)"
      ]
    },
    {
      "cell_type": "code",
      "execution_count": null,
      "metadata": {
        "id": "Z4XeNfTgsuQM"
      },
      "outputs": [],
      "source": [
        "-- 596. Classes More Than 5 Students: find all the classes that have at least five students.\n",
        "\n",
        "SELECT class\n",
        "FROM Courses\n",
        "GROUP BY class\n",
        "HAVING COUNT(student) >= 5"
      ]
    },
    {
      "cell_type": "code",
      "execution_count": null,
      "metadata": {
        "id": "fcN89xNgsuQM"
      },
      "outputs": [],
      "source": [
        "-- 1729. Find Followers Count: Write a solution that will, for each user, return the number of followers.\n",
        "\n",
        "SELECT user_id, COUNT(follower_id) AS followers_count\n",
        "FROM Followers\n",
        "GROUP BY user_id\n",
        "ORDER BY user_id ASC"
      ]
    },
    {
      "cell_type": "code",
      "execution_count": null,
      "metadata": {
        "id": "tn6JTfKWsuQM"
      },
      "outputs": [],
      "source": [
        "-- 619. Biggest Single Number: Find the largest single number. If there is no single number, report null.\n",
        "\n",
        "SELECT MAX(s.num) AS num\n",
        "FROM (SELECT num\n",
        "      FROM MyNumbers\n",
        "      GROUP BY num\n",
        "      HAVING COUNT(num) = 1) s"
      ]
    },
    {
      "cell_type": "code",
      "execution_count": null,
      "metadata": {
        "id": "2VN8BvIGsuQM"
      },
      "outputs": [],
      "source": [
        "-- M 1045. Customers Who Bought All Products: eport the customer ids from the Customer table that bought all the products in the Product table.\n",
        "\n",
        "SELECT customer_id\n",
        "FROM Customer\n",
        "GROUP BY customer_id\n",
        "HAVING COUNT(DISTINCT product_key) = (SELECT COUNT(product_key) FROM Product)"
      ]
    },
    {
      "cell_type": "markdown",
      "metadata": {
        "id": "JwyZVn5NsuQM"
      },
      "source": [
        "## 5. Sorting and Grouping"
      ]
    },
    {
      "cell_type": "code",
      "execution_count": null,
      "metadata": {
        "id": "PZZD-zIusuQM"
      },
      "outputs": [],
      "source": [
        "-- 1731. The Number of Employees Which Report to Each Employee:  report the ids and the names of all managers,\n",
        "-- the number of employees who report directly to them, and the average age of the reports rounded to the nearest integer.\n",
        "\n",
        "SELECT e.employee_id, e.name, s.reports_count, s.average_age\n",
        "FROM Employees e\n",
        "JOIN (SELECT reports_to, COUNT(employee_id) AS reports_count, ROUND(AVG(age)) AS average_age\n",
        "      FROM Employees\n",
        "      GROUP BY reports_to\n",
        "      HAVING reports_to is not null) s\n",
        "      ON e.employee_id = s.reports_to\n",
        "ORDER BY e.employee_id"
      ]
    },
    {
      "cell_type": "code",
      "execution_count": null,
      "metadata": {
        "id": "mD-GpR5WsuQM"
      },
      "outputs": [],
      "source": [
        "-- 1789. Primary Department for Each Employee: eport all the employees with their primary department.\n",
        "\n",
        "(SELECT employee_id, department_id\n",
        "FROM Employee\n",
        "WHERE primary_flag = 'Y')\n",
        "UNION\n",
        "(SELECT employee_id, department_id\n",
        "FROM Employee\n",
        "GROUP BY employee_id\n",
        "HAVING COUNT(department_id) = 1) --# employee belongs to only one department"
      ]
    },
    {
      "cell_type": "code",
      "execution_count": null,
      "metadata": {
        "id": "NA1H7LbtsuQM"
      },
      "outputs": [],
      "source": [
        "-- 610. Triangle Judgement: Report for every three line segments whether they can form a triangle.\n",
        "\n",
        "SELECT x, y, z, IF((x + y > z and x + z > y and y + z > x), 'Yes', 'No') AS triangle\n",
        "FROM Triangle"
      ]
    },
    {
      "cell_type": "code",
      "execution_count": null,
      "metadata": {
        "id": "B8xawZ-IsuQM"
      },
      "outputs": [],
      "source": [
        "-- M 180. Consecutive Numbers: Find all numbers that appear at least three times consecutively.\n",
        "\n",
        "SELECT DISTINCT l.num AS ConsecutiveNums\n",
        "FROM Logs l\n",
        "JOIN Logs s ON l.id = s.id+1 and l.num = s.num\n",
        "JOIN Logs s2 ON l.id = s2.id+2 and l.num = s2.num"
      ]
    },
    {
      "cell_type": "code",
      "execution_count": null,
      "metadata": {
        "id": "tx3ADbKosuQM"
      },
      "outputs": [],
      "source": [
        "-- M 1164. Product Price at a Given Date: find the prices of all products on 2019-08-16.\n",
        "\n",
        "SELECT p.product_id, IF(s.max_date is null, 10, new_price) AS price\n",
        "FROM Products p\n",
        "LEFT JOIN (SELECT product_id, MAX(change_date) as max_date\n",
        "           FROM Products\n",
        "           WHERE change_date <= '2019-08-16'\n",
        "           GROUP BY product_id) s\n",
        "        ON p.product_id = s.product_id\n",
        "WHERE p.change_date = s.max_date or s.max_date is null\n",
        "GROUP BY p.product_id"
      ]
    },
    {
      "cell_type": "code",
      "execution_count": null,
      "metadata": {
        "id": "lqgXgHpRsuQT"
      },
      "outputs": [],
      "source": [
        "-- M 1204. Last Person to Fit in the Bus: find the person_name of the last person that can fit on the bus without exceeding the weight limit.\n",
        "\n",
        "SELECT person_name\n",
        "FROM (SELECT person_name, SUM(weight) OVER(ORDER BY turn) AS total_weight\n",
        "      FROM Queue\n",
        "      ORDER BY total_weight DESC) s\n",
        "WHERE total_weight <= 1000\n",
        "LIMIT 1"
      ]
    },
    {
      "cell_type": "code",
      "execution_count": null,
      "metadata": {
        "id": "dWjIHZ-XsuQT"
      },
      "outputs": [],
      "source": [
        "-- M 1907. Count Salary Categories: calculate the number of bank accounts for each salary category. The salary categories are:\n",
        "-- \"Low Salary\": All the salaries strictly less than $20000.\n",
        "-- \"Average Salary\": All the salaries in the inclusive range [$20000, $50000].\n",
        "-- \"High Salary\": All the salaries strictly greater than $50000.\n",
        "\n",
        "WITH selected AS (SELECT s.category, COUNT(s.category) AS accounts_count\n",
        "                  FROM (SELECT account_id,\n",
        "                            CASE\n",
        "                                WHEN income < 20000 THEN 'Low Salary'\n",
        "                                WHEN income <= 50000 THEN 'Average Salary'\n",
        "                                ELSE 'High Salary'\n",
        "                            END AS category\n",
        "                        FROM Accounts) s\n",
        "                GROUP BY s.category)\n",
        "\n",
        "SELECT n.category, IFNULL(s.accounts_count, 0) AS accounts_count\n",
        "FROM selected s\n",
        "RIGHT JOIN (SELECT 'Low Salary' as category\n",
        "            UNION\n",
        "            SELECT 'Average Salary' as category\n",
        "            UNION\n",
        "            SELECT 'High Salary' as category) n\n",
        "        ON n.category = s.category"
      ]
    },
    {
      "cell_type": "markdown",
      "metadata": {
        "id": "Ohq2OWKnsuQT"
      },
      "source": [
        "## 6. Subqueries"
      ]
    },
    {
      "cell_type": "code",
      "execution_count": null,
      "metadata": {
        "id": "CToQfKUbsuQT"
      },
      "outputs": [],
      "source": [
        "-- 1978. Employees Whose Manager Left the Company: Find the IDs of the employees whose salary < $30000 and whose manager left the company.\n",
        "\n",
        "SELECT employee_id\n",
        "FROM Employees\n",
        "WHERE salary < 30000 and manager_id not in (SELECT employee_id FROM Employees)\n",
        "ORDER BY employee_id"
      ]
    },
    {
      "cell_type": "code",
      "execution_count": null,
      "metadata": {
        "id": "Us38mIIPsuQT"
      },
      "outputs": [],
      "source": [
        "-- M 626. Exchange Seats: swap the seat id of every two consecutive students.\n",
        "\n",
        "SELECT s.id,\n",
        "    CASE\n",
        "        WHEN s.id%2=1 and a.id is Null THEN s.student\n",
        "        WHEN s.id%2=1 THEN  a.student\n",
        "        ELSE e.student\n",
        "    END AS student\n",
        "FROM Seat s\n",
        "LEFT JOIN Seat e ON e.id = s.id - 1\n",
        "LEFT JOIN Seat a ON a.id = s.id + 1"
      ]
    },
    {
      "cell_type": "code",
      "execution_count": null,
      "metadata": {
        "id": "isUfnSdMsuQT"
      },
      "outputs": [],
      "source": [
        "-- M 1341. Movie Rating:\n",
        "-- Find the name of the user who has rated the greatest number of movies. In case of a tie, return the lexicographically smaller user name.\n",
        "-- Find the movie name with the highest average rating in February 2020. In case of a tie, return the lexicographically smaller movie name.\n",
        "\n",
        "SELECT s.results\n",
        "FROM ((SELECT u.name AS results, COUNT(m.movie_id) AS highest_count\n",
        "       FROM MovieRating m, Users u\n",
        "       WHERE m.user_id = u.user_id\n",
        "       GROUP BY m.user_id\n",
        "       ORDER BY highest_count DESC, u.name\n",
        "       LIMIT 1)\n",
        "      UNION\n",
        "      (SELECT v.title AS results, AVG(m.rating) AS highest_avg\n",
        "       FROM MovieRating m, Movies v\n",
        "       WHERE m.created_at between '2020-02-01' and  '2020-02-29' and m.movie_id = v.movie_id\n",
        "       GROUP BY m.movie_id\n",
        "       ORDER BY highest_avg DESC, v.title\n",
        "       LIMIT 1)) s"
      ]
    },
    {
      "cell_type": "code",
      "execution_count": null,
      "metadata": {
        "id": "tZV69IdKsuQU"
      },
      "outputs": [],
      "source": [
        "-- M 1321. Restaurant Growth: Compute the moving average of how much the customer paid in a seven days window.\n",
        "\n",
        "SELECT s.visited_on, s.amount, s.average_amount\n",
        "FROM (SELECT visited_on,\n",
        "        SUM(SUM(amount)) OVER (ORDER BY visited_on rows BETWEEN 6 preceding AND CURRENT ROW) AS amount,\n",
        "        ROUND(AVG(SUM(amount)) OVER (ORDER BY visited_on rows BETWEEN 6 preceding AND CURRENT ROW), 2) AS average_amount\n",
        "      FROM Customer\n",
        "      GROUP BY visited_on) s\n",
        "JOIN (SELECT c.visited_on\n",
        "      FROM Customer c, Customer u\n",
        "      WHERE DATEDIFF(c.visited_on, u.visited_on) = 6\n",
        "      GROUP BY visited_on) c\n",
        "    ON c.visited_on = s.visited_on\n",
        "ORDER BY visited_on"
      ]
    },
    {
      "cell_type": "code",
      "execution_count": null,
      "metadata": {
        "id": "pbQ_0ZpasuQU"
      },
      "outputs": [],
      "source": [
        "-- M 602. Friend Requests II: Who Has the Most Friends: find the people who have the most friends and the most friends number.\n",
        "\n",
        "SELECT s.requester_id AS id, COUNT(s.requester_id) AS num\n",
        "FROM  ((SELECT accepter_id AS requester_id, requester_id AS accepter_id, accept_date\n",
        "        FROM RequestAccepted)\n",
        "       UNION ALL\n",
        "       (SELECT *\n",
        "        FROM RequestAccepted)) s\n",
        "GROUP BY s.requester_id\n",
        "ORDER BY COUNT(s.requester_id) DESC\n",
        "LIMIT 1"
      ]
    },
    {
      "cell_type": "code",
      "execution_count": null,
      "metadata": {
        "id": "GzV7cH1BsuQU"
      },
      "outputs": [],
      "source": [
        "-- M 585. Investments in 2016: report the sum of all total investment values in 2016 tiv_2016, for all policyholders who:\n",
        "-- have the same tiv_2015 value as one or more other policyholders, and\n",
        "-- are not located in the same city as any other policyholder (i.e., the (lat, lon) attribute pairs must be unique).\n",
        "\n",
        "SELECT ROUND(SUM(tiv_2016), 2) AS tiv_2016\n",
        "FROM Insurance\n",
        "WHERE tiv_2015 in (SELECT tiv_2015\n",
        "                   FROM Insurance\n",
        "                   GROUP BY tiv_2015\n",
        "                   HAVING COUNT(tiv_2015) != 1)\n",
        "AND (lat, lon) in (SELECT lat, lon\n",
        "                   FROM Insurance\n",
        "                   GROUP BY lat, lon\n",
        "                   HAVING COUNT(tiv_2015) = 1)"
      ]
    },
    {
      "cell_type": "code",
      "execution_count": null,
      "metadata": {
        "id": "7QPSkgOzsuQU"
      },
      "outputs": [],
      "source": [
        "-- H 185. Department Top Three Salaries: find the employees who are high earners in each of the departments.\n",
        "\n",
        "WITH salary_order AS (\n",
        "    SELECT d.name AS Department, e.name AS Employee, e.salary,\n",
        "        DENSE_RANK () OVER (PARTITION BY d.id ORDER BY e.salary DESC) salary_rank\n",
        "    FROM Employee e, Department d\n",
        "    WHERE e.departmentId = d.id\n",
        "    )\n",
        "\n",
        "SELECT Department, Employee, salary\n",
        "FROM salary_order\n",
        "WHERE salary_rank <= 3"
      ]
    },
    {
      "cell_type": "markdown",
      "metadata": {
        "id": "hTpMXzjbsuQU"
      },
      "source": [
        "## 7. Advanced String Functions / Regex / Clause"
      ]
    },
    {
      "cell_type": "code",
      "execution_count": null,
      "metadata": {
        "id": "vFDto_LSsuQU"
      },
      "outputs": [],
      "source": [
        "-- 1667. Fix Names in a Table:  fix the names so that only the first character is uppercase and the rest are lowercase.\n",
        "\n",
        "SELECT user_id, CONCAT(UPPER(SUBSTRING(name, 1, 1)), LOWER(SUBSTRING(name, 2, LENGTH(name)))) AS name\n",
        "FROM Users\n",
        "ORDER BY user_id\n",
        "\n",
        "--## LEFT and RIGHT\n",
        "--# SELECT user_id, concat(upper(LEFT(name, 1)), lower(RIGHT(name, length(name)-1))) as name\n",
        "--# FROM users\n",
        "--# ORDER BY user_id;"
      ]
    },
    {
      "cell_type": "code",
      "execution_count": null,
      "metadata": {
        "id": "m-kP1Uc6suQU"
      },
      "outputs": [],
      "source": [
        "-- 1527. Patients With a Condition: find the patient_id, patient_name, and conditions of the patients who have Type I Diabetes.\n",
        "\n",
        "SELECT patient_id, patient_name, conditions\n",
        "FROM Patients\n",
        "WHERE conditions LIKE 'DIAB1%' or conditions LIKE '% DIAB1%'\n",
        "\n",
        "--# WHERE conditions REGEXP '\\bDIAB1.*';"
      ]
    },
    {
      "cell_type": "code",
      "execution_count": null,
      "metadata": {
        "id": "tnTP0sQHsuQU"
      },
      "outputs": [],
      "source": [
        "-- 196. Delete Duplicate Emails: delete all duplicate emails, keeping only one unique email with the smallest id.\n",
        "\n",
        "DELETE\n",
        "FROM Person\n",
        "WHERE (id, email) NOT IN (SELECT *\n",
        "                          FROM (SELECT MIN(id), email\n",
        "                                FROM Person\n",
        "                                GROUP BY email\n",
        "                                ) s )\n",
        "\n",
        "--# Method 2\n",
        "--# DELETE p1\n",
        "--# FROM person p1, person p2\n",
        "--# WHERE p1.Email = p2.Email AND p1.Id > p2.Id"
      ]
    },
    {
      "cell_type": "code",
      "execution_count": null,
      "metadata": {
        "id": "62uo5LOjsuQU"
      },
      "outputs": [],
      "source": [
        "-- M 176. Second Highest Salary: find the second highest salary from the Employee table.\n",
        "\n",
        "WITH selected AS (SELECT '2' as ranks, salary\n",
        "                FROM Employee\n",
        "                GROUP BY salary\n",
        "                ORDER BY salary DESC\n",
        "                LIMIT 1 OFFSET 1)\n",
        "\n",
        "SELECT e.salary AS SecondHighestSalary\n",
        "FROM selected e\n",
        "RIGHT JOIN (SELECT '2' as ranks) s ON s.ranks = e.ranks\n",
        "\n",
        "--## Method 2\n",
        "--# SELECT IFNULL((SELECT DISTINCT salary  ## distinct!!\n",
        "--#                 FROM Employee\n",
        "--#                 GROUP BY salary\n",
        "--#                 ORDER BY salary DESC\n",
        "--#                 LIMIT 1 OFFSET 1), NULL) AS SecondHighestSalary\n",
        "\n",
        "--## Method 3\n",
        "--# SELECT MAX(Salary) AS SecondHighestSalary\n",
        "--# FROM Employee\n",
        "--# WHERE Salary < (SELECT MAX(Salary) FROM Employee)"
      ]
    },
    {
      "cell_type": "code",
      "execution_count": null,
      "metadata": {
        "id": "RhkVzZOzsuQU"
      },
      "outputs": [],
      "source": [
        "-- 1484. Group Sold Products By The Date: find for each date the number of different products sold and their names.\n",
        "\n",
        "SELECT sell_date,\n",
        "    COUNT(DISTINCT product) AS num_sold,\n",
        "    GROUP_CONCAT(DISTINCT product ORDER BY product) AS products\n",
        "FROM Activities\n",
        "GROUP BY sell_date\n",
        "ORDER BY sell_date"
      ]
    },
    {
      "cell_type": "code",
      "execution_count": null,
      "metadata": {
        "id": "XlfhlhCssuQU"
      },
      "outputs": [],
      "source": [
        "-- 1327. List the Products Ordered in a Period: get the names of products that have at least 100 units ordered in February 2020 and their amount.\n",
        "\n",
        "SELECT p.product_name, s.unit\n",
        "FROM Products p, (SELECT product_id, SUM(unit) AS unit\n",
        "                  FROM Orders\n",
        "                  WHERE order_date BETWEEN '2020-02-01' and '2020-02-29'\n",
        "                  # where left(order_date, 7) = \"2020-02\"\n",
        "                  GROUP BY product_id\n",
        "                  HAVING SUM(unit) >= 100\n",
        "                 ) s\n",
        "WHERE p.product_id = s.product_id\n",
        "\n",
        "--# SELECT p.product_name AS product_name, sum(o.unit) AS unit FROM Products p\n",
        "--# JOIN Orders o USING (product_id)\n",
        "--# WHERE YEAR(o.order_date)='2020' AND MONTH(o.order_date)='02'\n",
        "--# GROUP BY p.product_id\n",
        "--# HAVING SUM(o.unit)>=100"
      ]
    },
    {
      "cell_type": "code",
      "execution_count": null,
      "metadata": {
        "id": "xZiU466DsuQU"
      },
      "outputs": [],
      "source": [
        "-- 1517. Find Users With Valid E-Mails: find the users who have valid emails.\n",
        "\n",
        "Select *\n",
        "from users\n",
        "where REGEXP_LIKE(mail, '^[a-zA-Z][a-zA-Z0-9_.-]*@leetcode[.]com$')\n",
        "\n",
        "--## '^[a-zA-Z][a-zA-Z0-9_.-]*\\@leetcode\\\\.com$'"
      ]
    }
  ],
  "metadata": {
    "kernelspec": {
      "display_name": "SQL",
      "language": "sql",
      "name": "SQL"
    },
    "language_info": {
      "name": "sql",
      "version": ""
    },
    "colab": {
      "provenance": [],
      "include_colab_link": true
    }
  },
  "nbformat": 4,
  "nbformat_minor": 0
}
